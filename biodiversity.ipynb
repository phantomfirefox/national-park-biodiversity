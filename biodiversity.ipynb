{
 "cells": [
  {
   "cell_type": "code",
   "execution_count": 10,
   "metadata": {
    "scrolled": false
   },
   "outputs": [
    {
     "name": "stdout",
     "output_type": "stream",
     "text": [
      "            category                scientific_name  \\\n",
      "0             Mammal  Clethrionomys gapperi gapperi   \n",
      "1             Mammal                      Bos bison   \n",
      "2             Mammal                     Bos taurus   \n",
      "3             Mammal                     Ovis aries   \n",
      "4             Mammal                 Cervus elaphus   \n",
      "...              ...                            ...   \n",
      "5819  Vascular Plant               Solanum parishii   \n",
      "5820  Vascular Plant                  Solanum xanti   \n",
      "5821  Vascular Plant         Parthenocissus vitacea   \n",
      "5822  Vascular Plant              Vitis californica   \n",
      "5823  Vascular Plant            Tribulus terrestris   \n",
      "\n",
      "                                           common_names conservation_status  \n",
      "0                              Gapper's Red-Backed Vole                 NaN  \n",
      "1                                 American Bison, Bison                 NaN  \n",
      "2     Aurochs, Aurochs, Domestic Cattle (Feral), Dom...                 NaN  \n",
      "3     Domestic Sheep, Mouflon, Red Sheep, Sheep (Feral)                 NaN  \n",
      "4                                         Wapiti Or Elk                 NaN  \n",
      "...                                                 ...                 ...  \n",
      "5819                                Parish's Nightshade                 NaN  \n",
      "5820            Chaparral Nightshade, Purple Nightshade                 NaN  \n",
      "5821        Thicket Creeper, Virginia Creeper, Woodbine                 NaN  \n",
      "5822            California Grape, California Wild Grape                 NaN  \n",
      "5823  Bullhead, Caltrop, Goathead, Mexican Sandbur, ...                 NaN  \n",
      "\n",
      "[5824 rows x 4 columns]\n"
     ]
    }
   ],
   "source": [
    "import pandas as pd\n",
    "import numpy as np\n",
    "import matplotlib.pyplot as plt\n",
    "\n",
    "species_df = pd.read_csv('species_info.csv')\n",
    "\n",
    "print(species_df)"
   ]
  },
  {
   "cell_type": "code",
   "execution_count": 11,
   "metadata": {
    "scrolled": false
   },
   "outputs": [
    {
     "name": "stdout",
     "output_type": "stream",
     "text": [
      "                               scientific_name  \\\n",
      "0                           Vicia benghalensis   \n",
      "1                               Neovison vison   \n",
      "2                            Prunus subcordata   \n",
      "3                         Abutilon theophrasti   \n",
      "4                     Githopsis specularioides   \n",
      "...                                        ...   \n",
      "23291                     Croton monanthogynus   \n",
      "23292                 Otospermophilus beecheyi   \n",
      "23293  Heterotheca sessiliflora ssp. echioides   \n",
      "23294                     Dicranella rufescens   \n",
      "23295                           Cucurbita pepo   \n",
      "\n",
      "                                 park_name  observations  \n",
      "0      Great Smoky Mountains National Park            68  \n",
      "1      Great Smoky Mountains National Park            77  \n",
      "2                   Yosemite National Park           138  \n",
      "3                      Bryce National Park            84  \n",
      "4      Great Smoky Mountains National Park            85  \n",
      "...                                    ...           ...  \n",
      "23291               Yosemite National Park           173  \n",
      "23292                  Bryce National Park           130  \n",
      "23293                  Bryce National Park           140  \n",
      "23294               Yosemite National Park           171  \n",
      "23295               Yosemite National Park           164  \n",
      "\n",
      "[23296 rows x 3 columns]\n"
     ]
    }
   ],
   "source": [
    "observation_df = pd.read_csv('observations.csv')\n",
    "print(observation_df)"
   ]
  },
  {
   "cell_type": "code",
   "execution_count": 14,
   "metadata": {},
   "outputs": [
    {
     "name": "stdout",
     "output_type": "stream",
     "text": [
      "category\n",
      "Amphibian              80\n",
      "Bird                  521\n",
      "Fish                  127\n",
      "Mammal                214\n",
      "Nonvascular Plant     333\n",
      "Reptile                79\n",
      "Vascular Plant       4470\n",
      "Name: common_names, dtype: int64\n"
     ]
    }
   ],
   "source": [
    "#what is the distribution of category count of species?\n",
    "\n",
    "species_count = species_df.groupby(['category']).agg('count')['common_names']\n",
    "\n",
    "print(species_count)"
   ]
  },
  {
   "cell_type": "code",
   "execution_count": 33,
   "metadata": {},
   "outputs": [
    {
     "data": {
      "text/plain": [
       "<AxesSubplot:ylabel='category'>"
      ]
     },
     "execution_count": 33,
     "metadata": {},
     "output_type": "execute_result"
    },
    {
     "data": {
      "image/png": "[encoded data removed]",
      "text/plain": [
       "<Figure size 432x288 with 1 Axes>"
      ]
     },
     "metadata": {
      "needs_background": "light"
     },
     "output_type": "display_data"
    }
   ],
   "source": [
    "species_count.plot.barh()"
   ]
  },
  {
   "cell_type": "code",
   "execution_count": 29,
   "metadata": {},
   "outputs": [
    {
     "name": "stdout",
     "output_type": "stream",
     "text": [
      "category           conservation_status\n",
      "Amphibian          Endangered              1\n",
      "                   Species of Concern      4\n",
      "                   Threatened              2\n",
      "Bird               Endangered              4\n",
      "                   In Recovery             3\n",
      "                   Species of Concern     72\n",
      "Fish               Endangered              3\n",
      "                   Species of Concern      4\n",
      "                   Threatened              4\n",
      "Mammal             Endangered              7\n",
      "                   In Recovery             1\n",
      "                   Species of Concern     28\n",
      "                   Threatened              2\n",
      "Nonvascular Plant  Species of Concern      5\n",
      "Reptile            Species of Concern      5\n",
      "Vascular Plant     Endangered              1\n",
      "                   Species of Concern     43\n",
      "                   Threatened              2\n",
      "Name: common_names, dtype: int64\n"
     ]
    }
   ],
   "source": [
    "#distribution of conservation status among categories\n",
    "\n",
    "species_status_distribution = species_df.groupby(['category','conservation_status']).agg('count')['common_names']\n",
    "print(species_status_distribution)"
   ]
  },
  {
   "cell_type": "code",
   "execution_count": 32,
   "metadata": {},
   "outputs": [
    {
     "data": {
      "text/plain": [
       "<AxesSubplot:title={'center':'Distribution of Species Status'}, ylabel='Species Count'>"
      ]
     },
     "execution_count": 32,
     "metadata": {},
     "output_type": "execute_result"
    },
    {
     "data": {
      "image/png": "[encoded data removed]",
      "text/plain": [
       "<Figure size 432x288 with 1 Axes>"
      ]
     },
     "metadata": {
      "needs_background": "light"
     },
     "output_type": "display_data"
    }
   ],
   "source": [
    "species_status_distribution.plot.barh(title='Distribution of Species Status', ylabel='Species/Status', xlabel='Species Count')"
   ]
  },
  {
   "cell_type": "code",
   "execution_count": null,
   "metadata": {},
   "outputs": [],
   "source": []
  }
 ],
 "metadata": {
  "kernelspec": {
   "display_name": "Python 3",
   "language": "python",
   "name": "python3"
  },
  "language_info": {
   "codemirror_mode": {
    "name": "ipython",
    "version": 3
   },
   "file_extension": ".py",
   "mimetype": "text/x-python",
   "name": "python",
   "nbconvert_exporter": "python",
   "pygments_lexer": "ipython3",
   "version": "3.8.8"
  }
 },
 "nbformat": 4,
 "nbformat_minor": 4
}
